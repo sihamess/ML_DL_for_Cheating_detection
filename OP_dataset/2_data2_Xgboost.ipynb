{
 "cells": [
  {
   "cell_type": "markdown",
   "id": "f3723ac7",
   "metadata": {},
   "source": [
    "### Install and Import Dependencies"
   ]
  },
  {
   "cell_type": "code",
   "execution_count": null,
   "id": "c5083d39",
   "metadata": {
    "id": "c5083d39"
   },
   "outputs": [],
   "source": [
    "#!pip install xgboost==1.0.1"
   ]
  },
  {
   "cell_type": "code",
   "execution_count": null,
   "id": "UzK9UasACxu0",
   "metadata": {
    "colab": {
     "base_uri": "https://localhost:8080/"
    },
    "executionInfo": {
     "elapsed": 22182,
     "status": "ok",
     "timestamp": 1704565263430,
     "user": {
      "displayName": "Ouahbi El Makkaoui",
      "userId": "16338340091516215429"
     },
     "user_tz": -60
    },
    "id": "UzK9UasACxu0",
    "outputId": "126b5360-090e-48fa-f3ee-403cf4bcdc1f"
   },
   "outputs": [
    {
     "name": "stdout",
     "output_type": "stream",
     "text": [
      "Mounted at /content/drive\n"
     ]
    }
   ],
   "source": [
    "from google.colab import drive\n",
    "drive.mount('/content/drive')"
   ]
  },
  {
   "cell_type": "code",
   "execution_count": null,
   "id": "dcfb3773",
   "metadata": {
    "id": "dcfb3773"
   },
   "outputs": [],
   "source": [
    "import pandas as pd\n",
    "import matplotlib.pyplot as plt\n",
    "from numpy import asarray\n",
    "from sklearn.datasets import make_classification\n",
    "from xgboost import XGBClassifier\n",
    "# Importing the libraries\n",
    "from sklearn.metrics import confusion_matrix\n",
    "import xgboost as xgb\n",
    "from sklearn.model_selection import train_test_split\n",
    "from sklearn.preprocessing import LabelEncoder, OneHotEncoder\n",
    "import numpy as np\n",
    "import random\n",
    "from sklearn.preprocessing import MinMaxScaler"
   ]
  },
  {
   "cell_type": "markdown",
   "id": "ed929157",
   "metadata": {
    "id": "ed929157"
   },
   "source": [
    "# 1.Head classification\n"
   ]
  },
  {
   "cell_type": "code",
   "execution_count": null,
   "id": "1f2fad82",
   "metadata": {
    "colab": {
     "base_uri": "https://localhost:8080/",
     "height": 143
    },
    "executionInfo": {
     "elapsed": 645,
     "status": "ok",
     "timestamp": 1704565274612,
     "user": {
      "displayName": "Ouahbi El Makkaoui",
      "userId": "16338340091516215429"
     },
     "user_tz": -60
    },
    "id": "1f2fad82",
    "outputId": "37e347e8-0a2c-4aaa-c523-65b26490bf7e"
   },
   "outputs": [
    {
     "data": {
      "text/html": [
       "\n",
       "  <div id=\"df-bc52c16d-fec1-4919-ad0c-d517d3a53af5\" class=\"colab-df-container\">\n",
       "    <div>\n",
       "<style scoped>\n",
       "    .dataframe tbody tr th:only-of-type {\n",
       "        vertical-align: middle;\n",
       "    }\n",
       "\n",
       "    .dataframe tbody tr th {\n",
       "        vertical-align: top;\n",
       "    }\n",
       "\n",
       "    .dataframe thead th {\n",
       "        text-align: right;\n",
       "    }\n",
       "</style>\n",
       "<table border=\"1\" class=\"dataframe\">\n",
       "  <thead>\n",
       "    <tr style=\"text-align: right;\">\n",
       "      <th></th>\n",
       "      <th>yaw</th>\n",
       "      <th>pitch</th>\n",
       "      <th>roll</th>\n",
       "      <th>label</th>\n",
       "    </tr>\n",
       "  </thead>\n",
       "  <tbody>\n",
       "    <tr>\n",
       "      <th>107</th>\n",
       "      <td>10.038645</td>\n",
       "      <td>5.886218</td>\n",
       "      <td>10.269459</td>\n",
       "      <td>1.0</td>\n",
       "    </tr>\n",
       "    <tr>\n",
       "      <th>74</th>\n",
       "      <td>14.774715</td>\n",
       "      <td>5.879225</td>\n",
       "      <td>8.326688</td>\n",
       "      <td>1.0</td>\n",
       "    </tr>\n",
       "    <tr>\n",
       "      <th>366</th>\n",
       "      <td>12.625806</td>\n",
       "      <td>-10.813173</td>\n",
       "      <td>1.635495</td>\n",
       "      <td>0.0</td>\n",
       "    </tr>\n",
       "  </tbody>\n",
       "</table>\n",
       "</div>\n",
       "    <div class=\"colab-df-buttons\">\n",
       "\n",
       "  <div class=\"colab-df-container\">\n",
       "    <button class=\"colab-df-convert\" onclick=\"convertToInteractive('df-bc52c16d-fec1-4919-ad0c-d517d3a53af5')\"\n",
       "            title=\"Convert this dataframe to an interactive table.\"\n",
       "            style=\"display:none;\">\n",
       "\n",
       "  <svg xmlns=\"http://www.w3.org/2000/svg\" height=\"24px\" viewBox=\"0 -960 960 960\">\n",
       "    <path d=\"M120-120v-720h720v720H120Zm60-500h600v-160H180v160Zm220 220h160v-160H400v160Zm0 220h160v-160H400v160ZM180-400h160v-160H180v160Zm440 0h160v-160H620v160ZM180-180h160v-160H180v160Zm440 0h160v-160H620v160Z\"/>\n",
       "  </svg>\n",
       "    </button>\n",
       "\n",
       "  <style>\n",
       "    .colab-df-container {\n",
       "      display:flex;\n",
       "      gap: 12px;\n",
       "    }\n",
       "\n",
       "    .colab-df-convert {\n",
       "      background-color: #E8F0FE;\n",
       "      border: none;\n",
       "      border-radius: 50%;\n",
       "      cursor: pointer;\n",
       "      display: none;\n",
       "      fill: #1967D2;\n",
       "      height: 32px;\n",
       "      padding: 0 0 0 0;\n",
       "      width: 32px;\n",
       "    }\n",
       "\n",
       "    .colab-df-convert:hover {\n",
       "      background-color: #E2EBFA;\n",
       "      box-shadow: 0px 1px 2px rgba(60, 64, 67, 0.3), 0px 1px 3px 1px rgba(60, 64, 67, 0.15);\n",
       "      fill: #174EA6;\n",
       "    }\n",
       "\n",
       "    .colab-df-buttons div {\n",
       "      margin-bottom: 4px;\n",
       "    }\n",
       "\n",
       "    [theme=dark] .colab-df-convert {\n",
       "      background-color: #3B4455;\n",
       "      fill: #D2E3FC;\n",
       "    }\n",
       "\n",
       "    [theme=dark] .colab-df-convert:hover {\n",
       "      background-color: #434B5C;\n",
       "      box-shadow: 0px 1px 3px 1px rgba(0, 0, 0, 0.15);\n",
       "      filter: drop-shadow(0px 1px 2px rgba(0, 0, 0, 0.3));\n",
       "      fill: #FFFFFF;\n",
       "    }\n",
       "  </style>\n",
       "\n",
       "    <script>\n",
       "      const buttonEl =\n",
       "        document.querySelector('#df-bc52c16d-fec1-4919-ad0c-d517d3a53af5 button.colab-df-convert');\n",
       "      buttonEl.style.display =\n",
       "        google.colab.kernel.accessAllowed ? 'block' : 'none';\n",
       "\n",
       "      async function convertToInteractive(key) {\n",
       "        const element = document.querySelector('#df-bc52c16d-fec1-4919-ad0c-d517d3a53af5');\n",
       "        const dataTable =\n",
       "          await google.colab.kernel.invokeFunction('convertToInteractive',\n",
       "                                                    [key], {});\n",
       "        if (!dataTable) return;\n",
       "\n",
       "        const docLinkHtml = 'Like what you see? Visit the ' +\n",
       "          '<a target=\"_blank\" href=https://colab.research.google.com/notebooks/data_table.ipynb>data table notebook</a>'\n",
       "          + ' to learn more about interactive tables.';\n",
       "        element.innerHTML = '';\n",
       "        dataTable['output_type'] = 'display_data';\n",
       "        await google.colab.output.renderOutput(dataTable, element);\n",
       "        const docLink = document.createElement('div');\n",
       "        docLink.innerHTML = docLinkHtml;\n",
       "        element.appendChild(docLink);\n",
       "      }\n",
       "    </script>\n",
       "  </div>\n",
       "\n",
       "\n",
       "<div id=\"df-4dff08b9-2bfd-40fe-9126-375f22ca1c4b\">\n",
       "  <button class=\"colab-df-quickchart\" onclick=\"quickchart('df-4dff08b9-2bfd-40fe-9126-375f22ca1c4b')\"\n",
       "            title=\"Suggest charts\"\n",
       "            style=\"display:none;\">\n",
       "\n",
       "<svg xmlns=\"http://www.w3.org/2000/svg\" height=\"24px\"viewBox=\"0 0 24 24\"\n",
       "     width=\"24px\">\n",
       "    <g>\n",
       "        <path d=\"M19 3H5c-1.1 0-2 .9-2 2v14c0 1.1.9 2 2 2h14c1.1 0 2-.9 2-2V5c0-1.1-.9-2-2-2zM9 17H7v-7h2v7zm4 0h-2V7h2v10zm4 0h-2v-4h2v4z\"/>\n",
       "    </g>\n",
       "</svg>\n",
       "  </button>\n",
       "\n",
       "<style>\n",
       "  .colab-df-quickchart {\n",
       "      --bg-color: #E8F0FE;\n",
       "      --fill-color: #1967D2;\n",
       "      --hover-bg-color: #E2EBFA;\n",
       "      --hover-fill-color: #174EA6;\n",
       "      --disabled-fill-color: #AAA;\n",
       "      --disabled-bg-color: #DDD;\n",
       "  }\n",
       "\n",
       "  [theme=dark] .colab-df-quickchart {\n",
       "      --bg-color: #3B4455;\n",
       "      --fill-color: #D2E3FC;\n",
       "      --hover-bg-color: #434B5C;\n",
       "      --hover-fill-color: #FFFFFF;\n",
       "      --disabled-bg-color: #3B4455;\n",
       "      --disabled-fill-color: #666;\n",
       "  }\n",
       "\n",
       "  .colab-df-quickchart {\n",
       "    background-color: var(--bg-color);\n",
       "    border: none;\n",
       "    border-radius: 50%;\n",
       "    cursor: pointer;\n",
       "    display: none;\n",
       "    fill: var(--fill-color);\n",
       "    height: 32px;\n",
       "    padding: 0;\n",
       "    width: 32px;\n",
       "  }\n",
       "\n",
       "  .colab-df-quickchart:hover {\n",
       "    background-color: var(--hover-bg-color);\n",
       "    box-shadow: 0 1px 2px rgba(60, 64, 67, 0.3), 0 1px 3px 1px rgba(60, 64, 67, 0.15);\n",
       "    fill: var(--button-hover-fill-color);\n",
       "  }\n",
       "\n",
       "  .colab-df-quickchart-complete:disabled,\n",
       "  .colab-df-quickchart-complete:disabled:hover {\n",
       "    background-color: var(--disabled-bg-color);\n",
       "    fill: var(--disabled-fill-color);\n",
       "    box-shadow: none;\n",
       "  }\n",
       "\n",
       "  .colab-df-spinner {\n",
       "    border: 2px solid var(--fill-color);\n",
       "    border-color: transparent;\n",
       "    border-bottom-color: var(--fill-color);\n",
       "    animation:\n",
       "      spin 1s steps(1) infinite;\n",
       "  }\n",
       "\n",
       "  @keyframes spin {\n",
       "    0% {\n",
       "      border-color: transparent;\n",
       "      border-bottom-color: var(--fill-color);\n",
       "      border-left-color: var(--fill-color);\n",
       "    }\n",
       "    20% {\n",
       "      border-color: transparent;\n",
       "      border-left-color: var(--fill-color);\n",
       "      border-top-color: var(--fill-color);\n",
       "    }\n",
       "    30% {\n",
       "      border-color: transparent;\n",
       "      border-left-color: var(--fill-color);\n",
       "      border-top-color: var(--fill-color);\n",
       "      border-right-color: var(--fill-color);\n",
       "    }\n",
       "    40% {\n",
       "      border-color: transparent;\n",
       "      border-right-color: var(--fill-color);\n",
       "      border-top-color: var(--fill-color);\n",
       "    }\n",
       "    60% {\n",
       "      border-color: transparent;\n",
       "      border-right-color: var(--fill-color);\n",
       "    }\n",
       "    80% {\n",
       "      border-color: transparent;\n",
       "      border-right-color: var(--fill-color);\n",
       "      border-bottom-color: var(--fill-color);\n",
       "    }\n",
       "    90% {\n",
       "      border-color: transparent;\n",
       "      border-bottom-color: var(--fill-color);\n",
       "    }\n",
       "  }\n",
       "</style>\n",
       "\n",
       "  <script>\n",
       "    async function quickchart(key) {\n",
       "      const quickchartButtonEl =\n",
       "        document.querySelector('#' + key + ' button');\n",
       "      quickchartButtonEl.disabled = true;  // To prevent multiple clicks.\n",
       "      quickchartButtonEl.classList.add('colab-df-spinner');\n",
       "      try {\n",
       "        const charts = await google.colab.kernel.invokeFunction(\n",
       "            'suggestCharts', [key], {});\n",
       "      } catch (error) {\n",
       "        console.error('Error during call to suggestCharts:', error);\n",
       "      }\n",
       "      quickchartButtonEl.classList.remove('colab-df-spinner');\n",
       "      quickchartButtonEl.classList.add('colab-df-quickchart-complete');\n",
       "    }\n",
       "    (() => {\n",
       "      let quickchartButtonEl =\n",
       "        document.querySelector('#df-4dff08b9-2bfd-40fe-9126-375f22ca1c4b button');\n",
       "      quickchartButtonEl.style.display =\n",
       "        google.colab.kernel.accessAllowed ? 'block' : 'none';\n",
       "    })();\n",
       "  </script>\n",
       "</div>\n",
       "\n",
       "    </div>\n",
       "  </div>\n"
      ],
      "text/plain": [
       "           yaw      pitch       roll  label\n",
       "107  10.038645   5.886218  10.269459    1.0\n",
       "74   14.774715   5.879225   8.326688    1.0\n",
       "366  12.625806 -10.813173   1.635495    0.0"
      ]
     },
     "execution_count": 4,
     "metadata": {},
     "output_type": "execute_result"
    }
   ],
   "source": [
    "# Importing the dataset\n",
    "df1 = pd.read_csv('/content/drive/MyDrive/paper 3 siham/data/data2_head.csv', sep = ',')\n",
    "df1 = df1.iloc[: , 1:]\n",
    "df1 = df1.sample(frac = 1)\n",
    "df1.head(3)\n"
   ]
  },
  {
   "cell_type": "code",
   "execution_count": null,
   "id": "_PvrSvlwMcPv",
   "metadata": {
    "colab": {
     "base_uri": "https://localhost:8080/",
     "height": 300
    },
    "executionInfo": {
     "elapsed": 311,
     "status": "ok",
     "timestamp": 1704565281549,
     "user": {
      "displayName": "Ouahbi El Makkaoui",
      "userId": "16338340091516215429"
     },
     "user_tz": -60
    },
    "id": "_PvrSvlwMcPv",
    "outputId": "4fa60bf3-0492-4be1-fbd5-ae116cdf5383"
   },
   "outputs": [
    {
     "data": {
      "text/html": [
       "\n",
       "  <div id=\"df-b632cfd9-6082-459e-9223-b605c0b1d4e2\" class=\"colab-df-container\">\n",
       "    <div>\n",
       "<style scoped>\n",
       "    .dataframe tbody tr th:only-of-type {\n",
       "        vertical-align: middle;\n",
       "    }\n",
       "\n",
       "    .dataframe tbody tr th {\n",
       "        vertical-align: top;\n",
       "    }\n",
       "\n",
       "    .dataframe thead th {\n",
       "        text-align: right;\n",
       "    }\n",
       "</style>\n",
       "<table border=\"1\" class=\"dataframe\">\n",
       "  <thead>\n",
       "    <tr style=\"text-align: right;\">\n",
       "      <th></th>\n",
       "      <th>yaw</th>\n",
       "      <th>pitch</th>\n",
       "      <th>roll</th>\n",
       "      <th>label</th>\n",
       "    </tr>\n",
       "  </thead>\n",
       "  <tbody>\n",
       "    <tr>\n",
       "      <th>count</th>\n",
       "      <td>448.000000</td>\n",
       "      <td>448.000000</td>\n",
       "      <td>448.000000</td>\n",
       "      <td>448.000000</td>\n",
       "    </tr>\n",
       "    <tr>\n",
       "      <th>mean</th>\n",
       "      <td>10.554577</td>\n",
       "      <td>-1.042163</td>\n",
       "      <td>4.868832</td>\n",
       "      <td>0.542411</td>\n",
       "    </tr>\n",
       "    <tr>\n",
       "      <th>std</th>\n",
       "      <td>14.335998</td>\n",
       "      <td>9.495555</td>\n",
       "      <td>5.064903</td>\n",
       "      <td>0.498755</td>\n",
       "    </tr>\n",
       "    <tr>\n",
       "      <th>min</th>\n",
       "      <td>-35.839340</td>\n",
       "      <td>-29.595852</td>\n",
       "      <td>-14.229896</td>\n",
       "      <td>0.000000</td>\n",
       "    </tr>\n",
       "    <tr>\n",
       "      <th>25%</th>\n",
       "      <td>3.456158</td>\n",
       "      <td>-9.592144</td>\n",
       "      <td>1.461968</td>\n",
       "      <td>0.000000</td>\n",
       "    </tr>\n",
       "    <tr>\n",
       "      <th>50%</th>\n",
       "      <td>12.494120</td>\n",
       "      <td>1.822347</td>\n",
       "      <td>5.626391</td>\n",
       "      <td>1.000000</td>\n",
       "    </tr>\n",
       "    <tr>\n",
       "      <th>75%</th>\n",
       "      <td>18.170913</td>\n",
       "      <td>6.417931</td>\n",
       "      <td>8.828966</td>\n",
       "      <td>1.000000</td>\n",
       "    </tr>\n",
       "    <tr>\n",
       "      <th>max</th>\n",
       "      <td>58.648048</td>\n",
       "      <td>27.112610</td>\n",
       "      <td>17.870573</td>\n",
       "      <td>1.000000</td>\n",
       "    </tr>\n",
       "  </tbody>\n",
       "</table>\n",
       "</div>\n",
       "    <div class=\"colab-df-buttons\">\n",
       "\n",
       "  <div class=\"colab-df-container\">\n",
       "    <button class=\"colab-df-convert\" onclick=\"convertToInteractive('df-b632cfd9-6082-459e-9223-b605c0b1d4e2')\"\n",
       "            title=\"Convert this dataframe to an interactive table.\"\n",
       "            style=\"display:none;\">\n",
       "\n",
       "  <svg xmlns=\"http://www.w3.org/2000/svg\" height=\"24px\" viewBox=\"0 -960 960 960\">\n",
       "    <path d=\"M120-120v-720h720v720H120Zm60-500h600v-160H180v160Zm220 220h160v-160H400v160Zm0 220h160v-160H400v160ZM180-400h160v-160H180v160Zm440 0h160v-160H620v160ZM180-180h160v-160H180v160Zm440 0h160v-160H620v160Z\"/>\n",
       "  </svg>\n",
       "    </button>\n",
       "\n",
       "  <style>\n",
       "    .colab-df-container {\n",
       "      display:flex;\n",
       "      gap: 12px;\n",
       "    }\n",
       "\n",
       "    .colab-df-convert {\n",
       "      background-color: #E8F0FE;\n",
       "      border: none;\n",
       "      border-radius: 50%;\n",
       "      cursor: pointer;\n",
       "      display: none;\n",
       "      fill: #1967D2;\n",
       "      height: 32px;\n",
       "      padding: 0 0 0 0;\n",
       "      width: 32px;\n",
       "    }\n",
       "\n",
       "    .colab-df-convert:hover {\n",
       "      background-color: #E2EBFA;\n",
       "      box-shadow: 0px 1px 2px rgba(60, 64, 67, 0.3), 0px 1px 3px 1px rgba(60, 64, 67, 0.15);\n",
       "      fill: #174EA6;\n",
       "    }\n",
       "\n",
       "    .colab-df-buttons div {\n",
       "      margin-bottom: 4px;\n",
       "    }\n",
       "\n",
       "    [theme=dark] .colab-df-convert {\n",
       "      background-color: #3B4455;\n",
       "      fill: #D2E3FC;\n",
       "    }\n",
       "\n",
       "    [theme=dark] .colab-df-convert:hover {\n",
       "      background-color: #434B5C;\n",
       "      box-shadow: 0px 1px 3px 1px rgba(0, 0, 0, 0.15);\n",
       "      filter: drop-shadow(0px 1px 2px rgba(0, 0, 0, 0.3));\n",
       "      fill: #FFFFFF;\n",
       "    }\n",
       "  </style>\n",
       "\n",
       "    <script>\n",
       "      const buttonEl =\n",
       "        document.querySelector('#df-b632cfd9-6082-459e-9223-b605c0b1d4e2 button.colab-df-convert');\n",
       "      buttonEl.style.display =\n",
       "        google.colab.kernel.accessAllowed ? 'block' : 'none';\n",
       "\n",
       "      async function convertToInteractive(key) {\n",
       "        const element = document.querySelector('#df-b632cfd9-6082-459e-9223-b605c0b1d4e2');\n",
       "        const dataTable =\n",
       "          await google.colab.kernel.invokeFunction('convertToInteractive',\n",
       "                                                    [key], {});\n",
       "        if (!dataTable) return;\n",
       "\n",
       "        const docLinkHtml = 'Like what you see? Visit the ' +\n",
       "          '<a target=\"_blank\" href=https://colab.research.google.com/notebooks/data_table.ipynb>data table notebook</a>'\n",
       "          + ' to learn more about interactive tables.';\n",
       "        element.innerHTML = '';\n",
       "        dataTable['output_type'] = 'display_data';\n",
       "        await google.colab.output.renderOutput(dataTable, element);\n",
       "        const docLink = document.createElement('div');\n",
       "        docLink.innerHTML = docLinkHtml;\n",
       "        element.appendChild(docLink);\n",
       "      }\n",
       "    </script>\n",
       "  </div>\n",
       "\n",
       "\n",
       "<div id=\"df-26d3c2da-87e5-4285-b5af-5f518addaaa9\">\n",
       "  <button class=\"colab-df-quickchart\" onclick=\"quickchart('df-26d3c2da-87e5-4285-b5af-5f518addaaa9')\"\n",
       "            title=\"Suggest charts\"\n",
       "            style=\"display:none;\">\n",
       "\n",
       "<svg xmlns=\"http://www.w3.org/2000/svg\" height=\"24px\"viewBox=\"0 0 24 24\"\n",
       "     width=\"24px\">\n",
       "    <g>\n",
       "        <path d=\"M19 3H5c-1.1 0-2 .9-2 2v14c0 1.1.9 2 2 2h14c1.1 0 2-.9 2-2V5c0-1.1-.9-2-2-2zM9 17H7v-7h2v7zm4 0h-2V7h2v10zm4 0h-2v-4h2v4z\"/>\n",
       "    </g>\n",
       "</svg>\n",
       "  </button>\n",
       "\n",
       "<style>\n",
       "  .colab-df-quickchart {\n",
       "      --bg-color: #E8F0FE;\n",
       "      --fill-color: #1967D2;\n",
       "      --hover-bg-color: #E2EBFA;\n",
       "      --hover-fill-color: #174EA6;\n",
       "      --disabled-fill-color: #AAA;\n",
       "      --disabled-bg-color: #DDD;\n",
       "  }\n",
       "\n",
       "  [theme=dark] .colab-df-quickchart {\n",
       "      --bg-color: #3B4455;\n",
       "      --fill-color: #D2E3FC;\n",
       "      --hover-bg-color: #434B5C;\n",
       "      --hover-fill-color: #FFFFFF;\n",
       "      --disabled-bg-color: #3B4455;\n",
       "      --disabled-fill-color: #666;\n",
       "  }\n",
       "\n",
       "  .colab-df-quickchart {\n",
       "    background-color: var(--bg-color);\n",
       "    border: none;\n",
       "    border-radius: 50%;\n",
       "    cursor: pointer;\n",
       "    display: none;\n",
       "    fill: var(--fill-color);\n",
       "    height: 32px;\n",
       "    padding: 0;\n",
       "    width: 32px;\n",
       "  }\n",
       "\n",
       "  .colab-df-quickchart:hover {\n",
       "    background-color: var(--hover-bg-color);\n",
       "    box-shadow: 0 1px 2px rgba(60, 64, 67, 0.3), 0 1px 3px 1px rgba(60, 64, 67, 0.15);\n",
       "    fill: var(--button-hover-fill-color);\n",
       "  }\n",
       "\n",
       "  .colab-df-quickchart-complete:disabled,\n",
       "  .colab-df-quickchart-complete:disabled:hover {\n",
       "    background-color: var(--disabled-bg-color);\n",
       "    fill: var(--disabled-fill-color);\n",
       "    box-shadow: none;\n",
       "  }\n",
       "\n",
       "  .colab-df-spinner {\n",
       "    border: 2px solid var(--fill-color);\n",
       "    border-color: transparent;\n",
       "    border-bottom-color: var(--fill-color);\n",
       "    animation:\n",
       "      spin 1s steps(1) infinite;\n",
       "  }\n",
       "\n",
       "  @keyframes spin {\n",
       "    0% {\n",
       "      border-color: transparent;\n",
       "      border-bottom-color: var(--fill-color);\n",
       "      border-left-color: var(--fill-color);\n",
       "    }\n",
       "    20% {\n",
       "      border-color: transparent;\n",
       "      border-left-color: var(--fill-color);\n",
       "      border-top-color: var(--fill-color);\n",
       "    }\n",
       "    30% {\n",
       "      border-color: transparent;\n",
       "      border-left-color: var(--fill-color);\n",
       "      border-top-color: var(--fill-color);\n",
       "      border-right-color: var(--fill-color);\n",
       "    }\n",
       "    40% {\n",
       "      border-color: transparent;\n",
       "      border-right-color: var(--fill-color);\n",
       "      border-top-color: var(--fill-color);\n",
       "    }\n",
       "    60% {\n",
       "      border-color: transparent;\n",
       "      border-right-color: var(--fill-color);\n",
       "    }\n",
       "    80% {\n",
       "      border-color: transparent;\n",
       "      border-right-color: var(--fill-color);\n",
       "      border-bottom-color: var(--fill-color);\n",
       "    }\n",
       "    90% {\n",
       "      border-color: transparent;\n",
       "      border-bottom-color: var(--fill-color);\n",
       "    }\n",
       "  }\n",
       "</style>\n",
       "\n",
       "  <script>\n",
       "    async function quickchart(key) {\n",
       "      const quickchartButtonEl =\n",
       "        document.querySelector('#' + key + ' button');\n",
       "      quickchartButtonEl.disabled = true;  // To prevent multiple clicks.\n",
       "      quickchartButtonEl.classList.add('colab-df-spinner');\n",
       "      try {\n",
       "        const charts = await google.colab.kernel.invokeFunction(\n",
       "            'suggestCharts', [key], {});\n",
       "      } catch (error) {\n",
       "        console.error('Error during call to suggestCharts:', error);\n",
       "      }\n",
       "      quickchartButtonEl.classList.remove('colab-df-spinner');\n",
       "      quickchartButtonEl.classList.add('colab-df-quickchart-complete');\n",
       "    }\n",
       "    (() => {\n",
       "      let quickchartButtonEl =\n",
       "        document.querySelector('#df-26d3c2da-87e5-4285-b5af-5f518addaaa9 button');\n",
       "      quickchartButtonEl.style.display =\n",
       "        google.colab.kernel.accessAllowed ? 'block' : 'none';\n",
       "    })();\n",
       "  </script>\n",
       "</div>\n",
       "\n",
       "    </div>\n",
       "  </div>\n"
      ],
      "text/plain": [
       "              yaw       pitch        roll       label\n",
       "count  448.000000  448.000000  448.000000  448.000000\n",
       "mean    10.554577   -1.042163    4.868832    0.542411\n",
       "std     14.335998    9.495555    5.064903    0.498755\n",
       "min    -35.839340  -29.595852  -14.229896    0.000000\n",
       "25%      3.456158   -9.592144    1.461968    0.000000\n",
       "50%     12.494120    1.822347    5.626391    1.000000\n",
       "75%     18.170913    6.417931    8.828966    1.000000\n",
       "max     58.648048   27.112610   17.870573    1.000000"
      ]
     },
     "execution_count": 5,
     "metadata": {},
     "output_type": "execute_result"
    }
   ],
   "source": [
    "df1.describe()"
   ]
  },
  {
   "cell_type": "code",
   "execution_count": null,
   "id": "XvZ2M5H6MjQO",
   "metadata": {
    "colab": {
     "base_uri": "https://localhost:8080/"
    },
    "executionInfo": {
     "elapsed": 308,
     "status": "ok",
     "timestamp": 1704565284440,
     "user": {
      "displayName": "Ouahbi El Makkaoui",
      "userId": "16338340091516215429"
     },
     "user_tz": -60
    },
    "id": "XvZ2M5H6MjQO",
    "outputId": "486ce73f-8e12-4f44-e07e-9c0c7ef45019"
   },
   "outputs": [
    {
     "data": {
      "text/plain": [
       "107    1.0\n",
       "74     1.0\n",
       "366    0.0\n",
       "313    0.0\n",
       "400    0.0\n",
       "      ... \n",
       "340    0.0\n",
       "258    0.0\n",
       "281    0.0\n",
       "117    1.0\n",
       "239    1.0\n",
       "Name: label, Length: 448, dtype: float64"
      ]
     },
     "execution_count": 6,
     "metadata": {},
     "output_type": "execute_result"
    }
   ],
   "source": [
    "df1['label']"
   ]
  },
  {
   "cell_type": "code",
   "execution_count": null,
   "id": "N8N2TfhRMjTX",
   "metadata": {
    "colab": {
     "base_uri": "https://localhost:8080/",
     "height": 448
    },
    "executionInfo": {
     "elapsed": 420,
     "status": "ok",
     "timestamp": 1704565287241,
     "user": {
      "displayName": "Ouahbi El Makkaoui",
      "userId": "16338340091516215429"
     },
     "user_tz": -60
    },
    "id": "N8N2TfhRMjTX",
    "outputId": "57b48976-d2e1-4588-89bc-9fb1189ea73e"
   },
   "outputs": [
    {
     "data": {
      "text/plain": [
       "<Axes: >"
      ]
     },
     "execution_count": 7,
     "metadata": {},
     "output_type": "execute_result"
    },
    {
     "data": {
      "image/png": "[encoded data removed]",
      "text/plain": [
       "<Figure size 640x480 with 1 Axes>"
      ]
     },
     "metadata": {},
     "output_type": "display_data"
    }
   ],
   "source": [
    "# Histograms\n",
    "df1[\"label\"].hist()"
   ]
  },
  {
   "cell_type": "code",
   "execution_count": null,
   "id": "X9ORHGa0Mcj0",
   "metadata": {
    "id": "X9ORHGa0Mcj0"
   },
   "outputs": [],
   "source": [
    "X1 = df1.iloc[:, :3].values\n",
    "y1 = df1.iloc[:, 3:4].values\n"
   ]
  },
  {
   "cell_type": "code",
   "execution_count": null,
   "id": "6005a551",
   "metadata": {
    "colab": {
     "base_uri": "https://localhost:8080/"
    },
    "executionInfo": {
     "elapsed": 307,
     "status": "ok",
     "timestamp": 1704565293949,
     "user": {
      "displayName": "Ouahbi El Makkaoui",
      "userId": "16338340091516215429"
     },
     "user_tz": -60
    },
    "id": "6005a551",
    "outputId": "50a9283e-3bdc-4730-b2fb-dbcfc5840f98"
   },
   "outputs": [
    {
     "data": {
      "text/plain": [
       "array([[ 10.03864479,   5.88621807,  10.26945877],\n",
       "       [ 14.77471542,   5.87922478,   8.32668781],\n",
       "       [ 12.62580585, -10.81317329,   1.63549459],\n",
       "       ...,\n",
       "       [ -1.17966413,   3.76294947,   5.63543224],\n",
       "       [  9.81436825,   6.53833675,   7.06794548],\n",
       "       [ 24.19004059,  -4.68908024,   7.64569855]])"
      ]
     },
     "execution_count": 9,
     "metadata": {},
     "output_type": "execute_result"
    }
   ],
   "source": [
    "X1"
   ]
  },
  {
   "cell_type": "code",
   "execution_count": null,
   "id": "mmd8_KsquxYv",
   "metadata": {
    "colab": {
     "base_uri": "https://localhost:8080/"
    },
    "executionInfo": {
     "elapsed": 320,
     "status": "ok",
     "timestamp": 1704565307235,
     "user": {
      "displayName": "Ouahbi El Makkaoui",
      "userId": "16338340091516215429"
     },
     "user_tz": -60
    },
    "id": "mmd8_KsquxYv",
    "outputId": "ea529d4e-b1a0-4b3f-9e35-b2a1fa3ab5cf"
   },
   "outputs": [
    {
     "name": "stdout",
     "output_type": "stream",
     "text": [
      "Scaled Features:\n",
      "          yaw     pitch      roll\n",
      "0    0.485546  0.625693  0.763209\n",
      "1    0.535670  0.625569  0.702687\n",
      "2    0.512927  0.331215  0.494242\n",
      "3    0.554179  0.539742  0.600760\n",
      "4    0.748273  0.670002  0.660328\n",
      "..        ...       ...       ...\n",
      "443  0.409104  0.279579  0.339388\n",
      "444  0.758558  0.521686  0.333072\n",
      "445  0.366818  0.588251  0.618849\n",
      "446  0.483173  0.637192  0.663474\n",
      "447  0.635316  0.439207  0.681473\n",
      "\n",
      "[448 rows x 3 columns]\n"
     ]
    }
   ],
   "source": [
    "# Min-Max scaling for features\n",
    "scaler = MinMaxScaler()\n",
    "X1= scaler.fit_transform(X1)\n",
    "\n",
    "# Display the scaled features\n",
    "print(\"Scaled Features:\")\n",
    "print(pd.DataFrame(X1, columns=df1.columns[:3]))"
   ]
  },
  {
   "cell_type": "code",
   "execution_count": null,
   "id": "f13b0328",
   "metadata": {
    "colab": {
     "base_uri": "https://localhost:8080/"
    },
    "executionInfo": {
     "elapsed": 288,
     "status": "ok",
     "timestamp": 1704565310710,
     "user": {
      "displayName": "Ouahbi El Makkaoui",
      "userId": "16338340091516215429"
     },
     "user_tz": -60
    },
    "id": "f13b0328",
    "outputId": "6797b5ac-c979-491e-bc03-9b4911ae230e"
   },
   "outputs": [
    {
     "data": {
      "text/plain": [
       "array([[1.],\n",
       "       [1.],\n",
       "       [0.],\n",
       "       [0.],\n",
       "       [0.],\n",
       "       [1.],\n",
       "       [1.],\n",
       "       [0.],\n",
       "       [1.],\n",
       "       [0.],\n",
       "       [0.],\n",
       "       [1.],\n",
       "       [0.],\n",
       "       [1.],\n",
       "       [0.],\n",
       "       [1.],\n",
       "       [1.],\n",
       "       [1.],\n",
       "       [1.],\n",
       "       [1.],\n",
       "       [1.],\n",
       "       [0.],\n",
       "       [0.],\n",
       "       [1.],\n",
       "       [1.],\n",
       "       [1.],\n",
       "       [1.],\n",
       "       [1.],\n",
       "       [1.],\n",
       "       [1.],\n",
       "       [1.],\n",
       "       [0.],\n",
       "       [1.],\n",
       "       [1.],\n",
       "       [1.],\n",
       "       [0.],\n",
       "       [0.],\n",
       "       [1.],\n",
       "       [1.],\n",
       "       [0.],\n",
       "       [0.],\n",
       "       [0.],\n",
       "       [1.],\n",
       "       [1.],\n",
       "       [0.],\n",
       "       [1.],\n",
       "       [0.],\n",
       "       [0.],\n",
       "       [1.],\n",
       "       [0.],\n",
       "       [1.],\n",
       "       [1.],\n",
       "       [1.],\n",
       "       [1.],\n",
       "       [0.],\n",
       "       [0.],\n",
       "       [0.],\n",
       "       [1.],\n",
       "       [1.],\n",
       "       [1.],\n",
       "       [0.],\n",
       "       [1.],\n",
       "       [1.],\n",
       "       [1.],\n",
       "       [0.],\n",
       "       [0.],\n",
       "       [1.],\n",
       "       [1.],\n",
       "       [1.],\n",
       "       [0.],\n",
       "       [0.],\n",
       "       [1.],\n",
       "       [1.],\n",
       "       [1.],\n",
       "       [0.],\n",
       "       [1.],\n",
       "       [0.],\n",
       "       [0.],\n",
       "       [1.],\n",
       "       [0.],\n",
       "       [0.],\n",
       "       [0.],\n",
       "       [1.],\n",
       "       [1.],\n",
       "       [1.],\n",
       "       [0.],\n",
       "       [0.],\n",
       "       [0.],\n",
       "       [0.],\n",
       "       [1.],\n",
       "       [0.],\n",
       "       [0.],\n",
       "       [1.],\n",
       "       [1.],\n",
       "       [1.],\n",
       "       [1.],\n",
       "       [1.],\n",
       "       [1.],\n",
       "       [1.],\n",
       "       [1.],\n",
       "       [0.],\n",
       "       [0.],\n",
       "       [1.],\n",
       "       [0.],\n",
       "       [0.],\n",
       "       [0.],\n",
       "       [1.],\n",
       "       [1.],\n",
       "       [0.],\n",
       "       [1.],\n",
       "       [0.],\n",
       "       [0.],\n",
       "       [0.],\n",
       "       [0.],\n",
       "       [0.],\n",
       "       [0.],\n",
       "       [0.],\n",
       "       [0.],\n",
       "       [1.],\n",
       "       [0.],\n",
       "       [1.],\n",
       "       [1.],\n",
       "       [1.],\n",
       "       [0.],\n",
       "       [1.],\n",
       "       [1.],\n",
       "       [0.],\n",
       "       [1.],\n",
       "       [0.],\n",
       "       [0.],\n",
       "       [1.],\n",
       "       [1.],\n",
       "       [1.],\n",
       "       [0.],\n",
       "       [1.],\n",
       "       [0.],\n",
       "       [1.],\n",
       "       [1.],\n",
       "       [0.],\n",
       "       [1.],\n",
       "       [1.],\n",
       "       [1.],\n",
       "       [0.],\n",
       "       [1.],\n",
       "       [0.],\n",
       "       [0.],\n",
       "       [0.],\n",
       "       [0.],\n",
       "       [0.],\n",
       "       [1.],\n",
       "       [1.],\n",
       "       [0.],\n",
       "       [0.],\n",
       "       [0.],\n",
       "       [1.],\n",
       "       [1.],\n",
       "       [0.],\n",
       "       [0.],\n",
       "       [1.],\n",
       "       [1.],\n",
       "       [1.],\n",
       "       [1.],\n",
       "       [0.],\n",
       "       [0.],\n",
       "       [0.],\n",
       "       [1.],\n",
       "       [0.],\n",
       "       [0.],\n",
       "       [1.],\n",
       "       [1.],\n",
       "       [1.],\n",
       "       [0.],\n",
       "       [0.],\n",
       "       [1.],\n",
       "       [0.],\n",
       "       [1.],\n",
       "       [1.],\n",
       "       [0.],\n",
       "       [1.],\n",
       "       [1.],\n",
       "       [1.],\n",
       "       [1.],\n",
       "       [1.],\n",
       "       [1.],\n",
       "       [1.],\n",
       "       [0.],\n",
       "       [0.],\n",
       "       [1.],\n",
       "       [0.],\n",
       "       [1.],\n",
       "       [0.],\n",
       "       [0.],\n",
       "       [1.],\n",
       "       [1.],\n",
       "       [1.],\n",
       "       [0.],\n",
       "       [1.],\n",
       "       [0.],\n",
       "       [1.],\n",
       "       [1.],\n",
       "       [0.],\n",
       "       [0.],\n",
       "       [0.],\n",
       "       [1.],\n",
       "       [0.],\n",
       "       [0.],\n",
       "       [1.],\n",
       "       [0.],\n",
       "       [1.],\n",
       "       [1.],\n",
       "       [1.],\n",
       "       [1.],\n",
       "       [1.],\n",
       "       [0.],\n",
       "       [0.],\n",
       "       [1.],\n",
       "       [0.],\n",
       "       [1.],\n",
       "       [0.],\n",
       "       [1.],\n",
       "       [0.],\n",
       "       [0.],\n",
       "       [1.],\n",
       "       [0.],\n",
       "       [1.],\n",
       "       [0.],\n",
       "       [0.],\n",
       "       [0.],\n",
       "       [1.],\n",
       "       [1.],\n",
       "       [1.],\n",
       "       [1.],\n",
       "       [1.],\n",
       "       [1.],\n",
       "       [0.],\n",
       "       [1.],\n",
       "       [0.],\n",
       "       [1.],\n",
       "       [0.],\n",
       "       [0.],\n",
       "       [0.],\n",
       "       [0.],\n",
       "       [1.],\n",
       "       [0.],\n",
       "       [0.],\n",
       "       [0.],\n",
       "       [1.],\n",
       "       [0.],\n",
       "       [0.],\n",
       "       [1.],\n",
       "       [1.],\n",
       "       [0.],\n",
       "       [1.],\n",
       "       [0.],\n",
       "       [1.],\n",
       "       [0.],\n",
       "       [0.],\n",
       "       [1.],\n",
       "       [0.],\n",
       "       [1.],\n",
       "       [0.],\n",
       "       [1.],\n",
       "       [1.],\n",
       "       [0.],\n",
       "       [0.],\n",
       "       [1.],\n",
       "       [0.],\n",
       "       [1.],\n",
       "       [0.],\n",
       "       [1.],\n",
       "       [0.],\n",
       "       [0.],\n",
       "       [1.],\n",
       "       [1.],\n",
       "       [0.],\n",
       "       [1.],\n",
       "       [0.],\n",
       "       [0.],\n",
       "       [1.],\n",
       "       [0.],\n",
       "       [1.],\n",
       "       [0.],\n",
       "       [1.],\n",
       "       [0.],\n",
       "       [1.],\n",
       "       [1.],\n",
       "       [1.],\n",
       "       [0.],\n",
       "       [1.],\n",
       "       [1.],\n",
       "       [1.],\n",
       "       [1.],\n",
       "       [1.],\n",
       "       [1.],\n",
       "       [1.],\n",
       "       [1.],\n",
       "       [0.],\n",
       "       [0.],\n",
       "       [0.],\n",
       "       [0.],\n",
       "       [1.],\n",
       "       [1.],\n",
       "       [1.],\n",
       "       [1.],\n",
       "       [1.],\n",
       "       [1.],\n",
       "       [0.],\n",
       "       [1.],\n",
       "       [1.],\n",
       "       [0.],\n",
       "       [0.],\n",
       "       [1.],\n",
       "       [0.],\n",
       "       [0.],\n",
       "       [0.],\n",
       "       [1.],\n",
       "       [0.],\n",
       "       [0.],\n",
       "       [1.],\n",
       "       [1.],\n",
       "       [0.],\n",
       "       [0.],\n",
       "       [0.],\n",
       "       [1.],\n",
       "       [0.],\n",
       "       [1.],\n",
       "       [0.],\n",
       "       [1.],\n",
       "       [1.],\n",
       "       [0.],\n",
       "       [0.],\n",
       "       [1.],\n",
       "       [0.],\n",
       "       [1.],\n",
       "       [1.],\n",
       "       [0.],\n",
       "       [0.],\n",
       "       [1.],\n",
       "       [1.],\n",
       "       [0.],\n",
       "       [1.],\n",
       "       [0.],\n",
       "       [1.],\n",
       "       [1.],\n",
       "       [1.],\n",
       "       [0.],\n",
       "       [1.],\n",
       "       [0.],\n",
       "       [1.],\n",
       "       [1.],\n",
       "       [1.],\n",
       "       [0.],\n",
       "       [1.],\n",
       "       [0.],\n",
       "       [0.],\n",
       "       [0.],\n",
       "       [1.],\n",
       "       [1.],\n",
       "       [1.],\n",
       "       [1.],\n",
       "       [1.],\n",
       "       [0.],\n",
       "       [0.],\n",
       "       [1.],\n",
       "       [0.],\n",
       "       [0.],\n",
       "       [0.],\n",
       "       [1.],\n",
       "       [1.],\n",
       "       [1.],\n",
       "       [1.],\n",
       "       [1.],\n",
       "       [1.],\n",
       "       [0.],\n",
       "       [0.],\n",
       "       [1.],\n",
       "       [1.],\n",
       "       [1.],\n",
       "       [1.],\n",
       "       [1.],\n",
       "       [1.],\n",
       "       [0.],\n",
       "       [0.],\n",
       "       [0.],\n",
       "       [1.],\n",
       "       [1.],\n",
       "       [1.],\n",
       "       [0.],\n",
       "       [1.],\n",
       "       [1.],\n",
       "       [0.],\n",
       "       [1.],\n",
       "       [0.],\n",
       "       [0.],\n",
       "       [0.],\n",
       "       [0.],\n",
       "       [1.],\n",
       "       [1.],\n",
       "       [1.],\n",
       "       [0.],\n",
       "       [1.],\n",
       "       [1.],\n",
       "       [0.],\n",
       "       [1.],\n",
       "       [0.],\n",
       "       [1.],\n",
       "       [0.],\n",
       "       [1.],\n",
       "       [1.],\n",
       "       [0.],\n",
       "       [0.],\n",
       "       [1.],\n",
       "       [1.],\n",
       "       [0.],\n",
       "       [1.],\n",
       "       [0.],\n",
       "       [1.],\n",
       "       [1.],\n",
       "       [0.],\n",
       "       [0.],\n",
       "       [1.],\n",
       "       [1.],\n",
       "       [1.],\n",
       "       [0.],\n",
       "       [0.],\n",
       "       [0.],\n",
       "       [1.],\n",
       "       [1.],\n",
       "       [1.],\n",
       "       [0.],\n",
       "       [1.],\n",
       "       [0.],\n",
       "       [0.],\n",
       "       [0.],\n",
       "       [1.],\n",
       "       [1.],\n",
       "       [0.],\n",
       "       [0.],\n",
       "       [0.],\n",
       "       [1.],\n",
       "       [0.],\n",
       "       [1.],\n",
       "       [1.],\n",
       "       [0.],\n",
       "       [0.],\n",
       "       [0.],\n",
       "       [1.],\n",
       "       [1.]])"
      ]
     },
     "execution_count": 11,
     "metadata": {},
     "output_type": "execute_result"
    }
   ],
   "source": [
    "y1"
   ]
  },
  {
   "cell_type": "code",
   "execution_count": null,
   "id": "f0c47085",
   "metadata": {
    "colab": {
     "base_uri": "https://localhost:8080/"
    },
    "executionInfo": {
     "elapsed": 675,
     "status": "ok",
     "timestamp": 1704565316037,
     "user": {
      "displayName": "Ouahbi El Makkaoui",
      "userId": "16338340091516215429"
     },
     "user_tz": -60
    },
    "id": "f0c47085",
    "outputId": "3103d1f7-0f16-48d3-95fd-e62f817fe1d0"
   },
   "outputs": [
    {
     "name": "stdout",
     "output_type": "stream",
     "text": [
      "Le temps d'exécution est de 0.48446226119995117 secondes.\n",
      "Le temps d'exécution est de 0.009303092956542969 secondes.\n"
     ]
    }
   ],
   "source": [
    "\n",
    "\n",
    "# Splitting the dataset into the Training set and Test set\n",
    "X_train1, X_test1, y_train1, y_test1 = train_test_split(\n",
    "\tX1, y1, test_size=0.3, random_state=0)\n",
    "\n",
    "# Fitting XGBoost to the training data\n",
    "import time\n",
    "t1=time.time()\n",
    "my_model1 = xgb.XGBClassifier()\n",
    "my_model1.fit(X_train1, y_train1)\n",
    "t2= time.time()\n",
    "temps_execution = t2 - t1\n",
    "print(f\"Le temps d'exécution est de {temps_execution} secondes.\")\n",
    "\n",
    "# Predicting the Test set results\n",
    "t3=time.time()\n",
    "y_pred1 = my_model1.predict(X_test1)\n",
    "t4= time.time()\n",
    "temps_execution = t4- t3\n",
    "print(f\"Le temps d'exécution est de {temps_execution} secondes.\")\n",
    "\n",
    "# Making the Confusion Matrix\n",
    "cm1= confusion_matrix(y_test1, y_pred1)\n"
   ]
  },
  {
   "cell_type": "code",
   "execution_count": null,
   "id": "41318216",
   "metadata": {
    "colab": {
     "base_uri": "https://localhost:8080/"
    },
    "executionInfo": {
     "elapsed": 297,
     "status": "ok",
     "timestamp": 1704565324206,
     "user": {
      "displayName": "Ouahbi El Makkaoui",
      "userId": "16338340091516215429"
     },
     "user_tz": -60
    },
    "id": "41318216",
    "outputId": "277f975a-4846-4b9b-a75d-9ecb1172dd3f"
   },
   "outputs": [
    {
     "data": {
      "text/plain": [
       "array([[46, 11],\n",
       "       [24, 54]])"
      ]
     },
     "execution_count": 13,
     "metadata": {},
     "output_type": "execute_result"
    }
   ],
   "source": [
    "cm1"
   ]
  },
  {
   "cell_type": "code",
   "execution_count": null,
   "id": "9WWgkqGV3g_e",
   "metadata": {
    "colab": {
     "base_uri": "https://localhost:8080/",
     "height": 391
    },
    "executionInfo": {
     "elapsed": 871,
     "status": "ok",
     "timestamp": 1704565337426,
     "user": {
      "displayName": "Ouahbi El Makkaoui",
      "userId": "16338340091516215429"
     },
     "user_tz": -60
    },
    "id": "9WWgkqGV3g_e",
    "outputId": "0300b74f-4db5-4993-8805-5d62dc46b269"
   },
   "outputs": [
    {
     "data": {
      "image/png": "[encoded data removed]",
      "text/plain": [
       "<Figure size 400x300 with 2 Axes>"
      ]
     },
     "metadata": {},
     "output_type": "display_data"
    }
   ],
   "source": [
    "from sklearn.metrics import confusion_matrix\n",
    "import seaborn as sns\n",
    "import matplotlib.pyplot as plt\n",
    "import numpy as np\n",
    "\n",
    "# Assuming you have y_test1 and y_pred1 defined\n",
    "f,ax = plt.subplots(figsize=(4,3))\n",
    "# Generate the confusion matrix\n",
    "cm1 = confusion_matrix(y_test1, y_pred1)\n",
    "\n",
    "# Calculate the percentages\n",
    "cm1_percent = cm1 / cm1.sum(axis=1)[:, np.newaxis] * 100\n",
    "\n",
    "# Create the heatmap\n",
    "ax = sns.heatmap(cm1_percent, annot=True, cmap=plt.cm.Blues, fmt='.2f')\n",
    "\n",
    "# Set the title and labels\n",
    "ax.set_title('Seaborn Confusion Matrix with Percentage\\n\\n')\n",
    "ax.set_xlabel('\\nPredicted label')\n",
    "ax.set_ylabel('True label ')\n",
    "\n",
    "# Set tick labels\n",
    "ax.xaxis.set_ticklabels(['Non-Cheating', 'Cheating'])\n",
    "ax.yaxis.set_ticklabels(['Non-Cheating', 'Cheating'])\n",
    "\n",
    "# Display the visualization of the Confusion Matrix with percentage\n",
    "plt.show()"
   ]
  },
  {
   "cell_type": "code",
   "execution_count": null,
   "id": "896d8fba",
   "metadata": {
    "colab": {
     "base_uri": "https://localhost:8080/"
    },
    "executionInfo": {
     "elapsed": 283,
     "status": "ok",
     "timestamp": 1704565343128,
     "user": {
      "displayName": "Ouahbi El Makkaoui",
      "userId": "16338340091516215429"
     },
     "user_tz": -60
    },
    "id": "896d8fba",
    "outputId": "0b8cc772-5ceb-4541-fec7-cc68bd72c2d6"
   },
   "outputs": [
    {
     "name": "stdout",
     "output_type": "stream",
     "text": [
      "0.7407407407407407\n"
     ]
    }
   ],
   "source": [
    "from sklearn.metrics import accuracy_score\n",
    "print(accuracy_score(y_test1, y_pred1))"
   ]
  },
  {
   "cell_type": "code",
   "execution_count": null,
   "id": "53152f2d",
   "metadata": {
    "colab": {
     "base_uri": "https://localhost:8080/"
    },
    "executionInfo": {
     "elapsed": 314,
     "status": "ok",
     "timestamp": 1704565346307,
     "user": {
      "displayName": "Ouahbi El Makkaoui",
      "userId": "16338340091516215429"
     },
     "user_tz": -60
    },
    "id": "53152f2d",
    "outputId": "97a73e69-e82f-45d8-8093-eb811dd0937a"
   },
   "outputs": [
    {
     "name": "stdout",
     "output_type": "stream",
     "text": [
      "1.0\n"
     ]
    }
   ],
   "source": [
    "from sklearn.metrics import accuracy_score\n",
    "print(accuracy_score(y_train1, my_model1.predict(X_train1)))"
   ]
  },
  {
   "cell_type": "code",
   "execution_count": null,
   "id": "06572658",
   "metadata": {
    "id": "06572658"
   },
   "outputs": [],
   "source": [
    "from sklearn.metrics import precision_score, recall_score, f1_score"
   ]
  },
  {
   "cell_type": "code",
   "execution_count": null,
   "id": "ecf8a197",
   "metadata": {
    "colab": {
     "base_uri": "https://localhost:8080/"
    },
    "executionInfo": {
     "elapsed": 498,
     "status": "ok",
     "timestamp": 1704565353247,
     "user": {
      "displayName": "Ouahbi El Makkaoui",
      "userId": "16338340091516215429"
     },
     "user_tz": -60
    },
    "id": "ecf8a197",
    "outputId": "a873e803-8640-4614-b885-b3edbee8a1e5"
   },
   "outputs": [
    {
     "name": "stdout",
     "output_type": "stream",
     "text": [
      "precision= 0.8307692307692308 , recall= 0.6923076923076923 , f1_score= 0.7552447552447553\n"
     ]
    }
   ],
   "source": [
    "print(\"precision=\",precision_score(y_test1, y_pred1),\",\",\"recall=\",recall_score(y_test1, y_pred1),\",\",\"f1_score=\",f1_score(y_test1, y_pred1))"
   ]
  },
  {
   "cell_type": "markdown",
   "id": "ce4b73b7",
   "metadata": {
    "id": "ce4b73b7"
   },
   "source": [
    "Specificity in Python"
   ]
  },
  {
   "cell_type": "code",
   "execution_count": null,
   "id": "019bb4d2",
   "metadata": {
    "colab": {
     "base_uri": "https://localhost:8080/"
    },
    "executionInfo": {
     "elapsed": 311,
     "status": "ok",
     "timestamp": 1704565357964,
     "user": {
      "displayName": "Ouahbi El Makkaoui",
      "userId": "16338340091516215429"
     },
     "user_tz": -60
    },
    "id": "019bb4d2",
    "outputId": "dadde783-af1b-4f6b-86c4-4cfe442486a7"
   },
   "outputs": [
    {
     "name": "stdout",
     "output_type": "stream",
     "text": [
      "specificity= 0.8070175438596491\n"
     ]
    }
   ],
   "source": [
    "true_negatives1 = cm1[0, 0]\n",
    "false_positives1 = cm1[0, 1]\n",
    "print('specificity=',true_negatives1 / (true_negatives1 + false_positives1))"
   ]
  },
  {
   "cell_type": "markdown",
   "id": "a082c9eb",
   "metadata": {
    "id": "a082c9eb"
   },
   "source": [
    "# 2.Eyes Classification"
   ]
  },
  {
   "cell_type": "code",
   "execution_count": null,
   "id": "79d7fbdd",
   "metadata": {
    "colab": {
     "base_uri": "https://localhost:8080/"
    },
    "executionInfo": {
     "elapsed": 295,
     "status": "ok",
     "timestamp": 1704565364542,
     "user": {
      "displayName": "Ouahbi El Makkaoui",
      "userId": "16338340091516215429"
     },
     "user_tz": -60
    },
    "id": "79d7fbdd",
    "outputId": "5c7c1b53-3a3e-497b-acd5-d3ce2b152b0b"
   },
   "outputs": [
    {
     "name": "stdout",
     "output_type": "stream",
     "text": [
      "      Unnamed: 0  a_leftPupilPoint  b_leftPupilPoint  a_rightPupilPoint  \\\n",
      "0              0               499               352                643   \n",
      "1              1               501               353                646   \n",
      "2              2               453               213                585   \n",
      "3              3               631               480                738   \n",
      "4              4               387               367                504   \n",
      "...          ...               ...               ...                ...   \n",
      "4488        2774               450               452                562   \n",
      "4489        2775               451               450                561   \n",
      "4490        2776               578               417                671   \n",
      "4491        2777               465               375                591   \n",
      "4492        2778               520               406                625   \n",
      "\n",
      "      b_rightPupilPoint  label  \n",
      "0                   354      1  \n",
      "1                   356      1  \n",
      "2                   220      1  \n",
      "3                   467      1  \n",
      "4                   385      1  \n",
      "...                 ...    ...  \n",
      "4488                446      0  \n",
      "4489                444      0  \n",
      "4490                428      0  \n",
      "4491                375      0  \n",
      "4492                402      0  \n",
      "\n",
      "[4493 rows x 6 columns]\n"
     ]
    }
   ],
   "source": [
    "# Importing the dataset\n",
    "df2 = pd.read_csv('/content/drive/MyDrive/paper 3 siham/data/data2_eyes.csv', sep = ',')\n",
    "print(df2)"
   ]
  },
  {
   "cell_type": "code",
   "execution_count": null,
   "id": "524f4288",
   "metadata": {
    "colab": {
     "base_uri": "https://localhost:8080/"
    },
    "executionInfo": {
     "elapsed": 2,
     "status": "ok",
     "timestamp": 1704565367704,
     "user": {
      "displayName": "Ouahbi El Makkaoui",
      "userId": "16338340091516215429"
     },
     "user_tz": -60
    },
    "id": "524f4288",
    "outputId": "8f3a0f36-7c13-4908-dea8-a868ee5551fd"
   },
   "outputs": [
    {
     "name": "stdout",
     "output_type": "stream",
     "text": [
      "      a_leftPupilPoint  b_leftPupilPoint  a_rightPupilPoint  \\\n",
      "3957               365               418                480   \n",
      "26                 378               349                496   \n",
      "1172               484               233                607   \n",
      "208                416               290                553   \n",
      "2115               409               297                567   \n",
      "...                ...               ...                ...   \n",
      "4452               378               316                501   \n",
      "2371               509               310                683   \n",
      "1346               523               287                651   \n",
      "3878               345               545                456   \n",
      "3710               524               237                652   \n",
      "\n",
      "      b_rightPupilPoint  label  \n",
      "3957                398      0  \n",
      "26                  367      1  \n",
      "1172                229      1  \n",
      "208                 297      1  \n",
      "2115                308      0  \n",
      "...                 ...    ...  \n",
      "4452                318      0  \n",
      "2371                319      0  \n",
      "1346                293      1  \n",
      "3878                544      0  \n",
      "3710                231      0  \n",
      "\n",
      "[4493 rows x 5 columns]\n"
     ]
    }
   ],
   "source": [
    "df2 = df2.iloc[: , 1:]\n",
    "df2 = df2.sample(frac = 1)\n",
    "print(df2)"
   ]
  },
  {
   "cell_type": "code",
   "execution_count": null,
   "id": "a76cf854",
   "metadata": {
    "id": "a76cf854"
   },
   "outputs": [],
   "source": [
    "X2 = df2.iloc[:, :4].values\n",
    "y2 = df2.iloc[:, 4:].values"
   ]
  },
  {
   "cell_type": "code",
   "execution_count": null,
   "id": "0d834125",
   "metadata": {
    "colab": {
     "base_uri": "https://localhost:8080/"
    },
    "id": "0d834125",
    "outputId": "bd08df70-ca58-4201-bcd0-afeb8b96c173"
   },
   "outputs": [
    {
     "data": {
      "text/plain": [
       "array([[540, 287, 665, 285],\n",
       "       [400, 308, 553, 310],\n",
       "       [616, 394, 719, 402],\n",
       "       ...,\n",
       "       [507, 282, 659, 277],\n",
       "       [470, 282, 601, 266],\n",
       "       [420, 139, 547, 135]])"
      ]
     },
     "execution_count": 17,
     "metadata": {},
     "output_type": "execute_result"
    }
   ],
   "source": [
    "X2"
   ]
  },
  {
   "cell_type": "code",
   "execution_count": null,
   "id": "B01lN0VAvNK2",
   "metadata": {
    "colab": {
     "base_uri": "https://localhost:8080/"
    },
    "executionInfo": {
     "elapsed": 292,
     "status": "ok",
     "timestamp": 1704565399904,
     "user": {
      "displayName": "Ouahbi El Makkaoui",
      "userId": "16338340091516215429"
     },
     "user_tz": -60
    },
    "id": "B01lN0VAvNK2",
    "outputId": "78267774-27e9-470b-cbff-3b30e8227c3e"
   },
   "outputs": [
    {
     "name": "stdout",
     "output_type": "stream",
     "text": [
      "Scaled Features:\n",
      "      a_leftPupilPoint  b_leftPupilPoint  a_rightPupilPoint  b_rightPupilPoint\n",
      "0             0.327470          0.620843           0.328035           0.594298\n",
      "1             0.345061          0.467849           0.351156           0.526316\n",
      "2             0.488498          0.210643           0.511561           0.223684\n",
      "3             0.396482          0.337029           0.433526           0.372807\n",
      "4             0.387009          0.352550           0.453757           0.396930\n",
      "...                ...               ...                ...                ...\n",
      "4488          0.345061          0.394678           0.358382           0.418860\n",
      "4489          0.522327          0.381375           0.621387           0.421053\n",
      "4490          0.541272          0.330377           0.575145           0.364035\n",
      "4491          0.300406          0.902439           0.293353           0.914474\n",
      "4492          0.542625          0.219512           0.576590           0.228070\n",
      "\n",
      "[4493 rows x 4 columns]\n"
     ]
    }
   ],
   "source": [
    "# Min-Max scaling for features\n",
    "scaler = MinMaxScaler()\n",
    "X2= scaler.fit_transform(X2)\n",
    "\n",
    "# Display the scaled features\n",
    "print(\"Scaled Features:\")\n",
    "print(pd.DataFrame(X2, columns=df2.columns[:4]))"
   ]
  },
  {
   "cell_type": "code",
   "execution_count": null,
   "id": "3ccb266c",
   "metadata": {
    "colab": {
     "base_uri": "https://localhost:8080/"
    },
    "executionInfo": {
     "elapsed": 4,
     "status": "ok",
     "timestamp": 1704565403701,
     "user": {
      "displayName": "Ouahbi El Makkaoui",
      "userId": "16338340091516215429"
     },
     "user_tz": -60
    },
    "id": "3ccb266c",
    "outputId": "a454fbbf-892a-4895-c169-c9152f9cedb6"
   },
   "outputs": [
    {
     "data": {
      "text/plain": [
       "array([[0],\n",
       "       [1],\n",
       "       [1],\n",
       "       ...,\n",
       "       [1],\n",
       "       [0],\n",
       "       [0]])"
      ]
     },
     "execution_count": 25,
     "metadata": {},
     "output_type": "execute_result"
    }
   ],
   "source": [
    "y2"
   ]
  },
  {
   "cell_type": "code",
   "execution_count": null,
   "id": "9f77d551",
   "metadata": {
    "colab": {
     "base_uri": "https://localhost:8080/"
    },
    "executionInfo": {
     "elapsed": 4,
     "status": "ok",
     "timestamp": 1704565406504,
     "user": {
      "displayName": "Ouahbi El Makkaoui",
      "userId": "16338340091516215429"
     },
     "user_tz": -60
    },
    "id": "9f77d551",
    "outputId": "5982af88-9339-4167-8b5c-72cbebdf3b28"
   },
   "outputs": [
    {
     "name": "stdout",
     "output_type": "stream",
     "text": [
      "Le temps d'exécution est de 0.08428025245666504 secondes.\n",
      "Le temps d'exécution est de 0.004940032958984375 secondes.\n"
     ]
    }
   ],
   "source": [
    "# Splitting the dataset into the Training set and Test set\n",
    "X_train2, X_test2, y_train2, y_test2 = train_test_split(\n",
    "\tX2, y2, test_size=0.3, random_state=0)\n",
    "\n",
    "# Fitting XGBoost to the training data\n",
    "t1=time.time()\n",
    "my_model2 = xgb.XGBClassifier()\n",
    "my_model2.fit(X_train2, y_train2)\n",
    "t2= time.time()\n",
    "temps_execution = t2- t1\n",
    "print(f\"Le temps d'exécution est de {temps_execution} secondes.\")\n",
    "# Predicting the Test set results\n",
    "t3=time.time()\n",
    "y_pred2 = my_model2.predict(X_test2)\n",
    "t4= time.time()\n",
    "temps_execution = t4- t3\n",
    "print(f\"Le temps d'exécution est de {temps_execution} secondes.\")\n",
    "# Making the Confusion Matrix\n",
    "cm2 = confusion_matrix(y_test2, y_pred2)\n"
   ]
  },
  {
   "cell_type": "code",
   "execution_count": null,
   "id": "718c4c42",
   "metadata": {
    "colab": {
     "base_uri": "https://localhost:8080/"
    },
    "executionInfo": {
     "elapsed": 2,
     "status": "ok",
     "timestamp": 1704565411153,
     "user": {
      "displayName": "Ouahbi El Makkaoui",
      "userId": "16338340091516215429"
     },
     "user_tz": -60
    },
    "id": "718c4c42",
    "outputId": "e038564e-e141-47d6-cc7f-7e3394efea5f"
   },
   "outputs": [
    {
     "data": {
      "text/plain": [
       "array([[735,  84],\n",
       "       [124, 405]])"
      ]
     },
     "execution_count": 27,
     "metadata": {},
     "output_type": "execute_result"
    }
   ],
   "source": [
    "cm2"
   ]
  },
  {
   "cell_type": "code",
   "execution_count": null,
   "id": "yzlGI4Er33tU",
   "metadata": {
    "colab": {
     "base_uri": "https://localhost:8080/",
     "height": 391
    },
    "executionInfo": {
     "elapsed": 740,
     "status": "ok",
     "timestamp": 1704565414718,
     "user": {
      "displayName": "Ouahbi El Makkaoui",
      "userId": "16338340091516215429"
     },
     "user_tz": -60
    },
    "id": "yzlGI4Er33tU",
    "outputId": "924af143-98ef-4211-f1b3-54d6f4a87bab"
   },
   "outputs": [
    {
     "data": {
      "image/png": "[encoded data removed]",
      "text/plain": [
       "<Figure size 400x300 with 2 Axes>"
      ]
     },
     "metadata": {},
     "output_type": "display_data"
    }
   ],
   "source": [
    "from sklearn.metrics import confusion_matrix\n",
    "import seaborn as sns\n",
    "import matplotlib.pyplot as plt\n",
    "import numpy as np\n",
    "\n",
    "# Assuming you have y_test1 and y_pred1 defined\n",
    "f,ax = plt.subplots(figsize=(4,3))\n",
    "# Generate the confusion matrix\n",
    "cm1 = confusion_matrix(y_test2, y_pred2)\n",
    "\n",
    "# Calculate the percentages\n",
    "cm1_percent = cm1 / cm1.sum(axis=1)[:, np.newaxis] * 100\n",
    "\n",
    "# Create the heatmap\n",
    "ax = sns.heatmap(cm1_percent, annot=True, cmap=plt.cm.Blues, fmt='.2f')\n",
    "\n",
    "# Set the title and labels\n",
    "ax.set_title('Seaborn Confusion Matrix with Percentage\\n\\n')\n",
    "ax.set_xlabel('\\nPredicted label')\n",
    "ax.set_ylabel('True label ')\n",
    "\n",
    "# Set tick labels\n",
    "ax.xaxis.set_ticklabels(['Non-Cheating', 'Cheating'])\n",
    "ax.yaxis.set_ticklabels(['Non-Cheating', 'Cheating'])\n",
    "\n",
    "# Display the visualization of the Confusion Matrix with percentage\n",
    "plt.show()"
   ]
  },
  {
   "cell_type": "code",
   "execution_count": null,
   "id": "ba3e8fc8",
   "metadata": {
    "colab": {
     "base_uri": "https://localhost:8080/"
    },
    "executionInfo": {
     "elapsed": 353,
     "status": "ok",
     "timestamp": 1704565422289,
     "user": {
      "displayName": "Ouahbi El Makkaoui",
      "userId": "16338340091516215429"
     },
     "user_tz": -60
    },
    "id": "ba3e8fc8",
    "outputId": "bdc90768-41d2-4408-96df-714a02cc63e9"
   },
   "outputs": [
    {
     "name": "stdout",
     "output_type": "stream",
     "text": [
      "0.8456973293768546\n"
     ]
    }
   ],
   "source": [
    "from sklearn.metrics import accuracy_score\n",
    "print(accuracy_score(y_test2, y_pred2))"
   ]
  },
  {
   "cell_type": "code",
   "execution_count": null,
   "id": "ff9892d8",
   "metadata": {
    "colab": {
     "base_uri": "https://localhost:8080/"
    },
    "executionInfo": {
     "elapsed": 295,
     "status": "ok",
     "timestamp": 1704565425866,
     "user": {
      "displayName": "Ouahbi El Makkaoui",
      "userId": "16338340091516215429"
     },
     "user_tz": -60
    },
    "id": "ff9892d8",
    "outputId": "81474fa2-af5f-4c3c-c390-ea6097f47327"
   },
   "outputs": [
    {
     "name": "stdout",
     "output_type": "stream",
     "text": [
      "0.9783783783783784\n"
     ]
    }
   ],
   "source": [
    "from sklearn.metrics import accuracy_score\n",
    "print(accuracy_score(y_train2, my_model2.predict(X_train2)))"
   ]
  },
  {
   "cell_type": "code",
   "execution_count": null,
   "id": "9aa050a6",
   "metadata": {
    "id": "9aa050a6"
   },
   "outputs": [],
   "source": [
    "from sklearn.metrics import precision_score, recall_score, f1_score"
   ]
  },
  {
   "cell_type": "code",
   "execution_count": null,
   "id": "a2a5c4f9",
   "metadata": {
    "colab": {
     "base_uri": "https://localhost:8080/"
    },
    "executionInfo": {
     "elapsed": 285,
     "status": "ok",
     "timestamp": 1704565431169,
     "user": {
      "displayName": "Ouahbi El Makkaoui",
      "userId": "16338340091516215429"
     },
     "user_tz": -60
    },
    "id": "a2a5c4f9",
    "outputId": "eb318806-3716-4952-e6b2-a2f2fe4c72a9"
   },
   "outputs": [
    {
     "name": "stdout",
     "output_type": "stream",
     "text": [
      "precision= 0.8282208588957055 , recall= 0.7655954631379962 , f1_score= 0.7956777996070726\n"
     ]
    }
   ],
   "source": [
    "print(\"precision=\",precision_score(y_test2, y_pred2),\",\",\"recall=\",recall_score(y_test2, y_pred2),\",\",\"f1_score=\",f1_score(y_test2, y_pred2))"
   ]
  },
  {
   "cell_type": "markdown",
   "id": "b0d80e88",
   "metadata": {
    "id": "b0d80e88"
   },
   "source": [
    "Specificity in Python"
   ]
  },
  {
   "cell_type": "code",
   "execution_count": null,
   "id": "001d55ef",
   "metadata": {
    "colab": {
     "base_uri": "https://localhost:8080/"
    },
    "executionInfo": {
     "elapsed": 316,
     "status": "ok",
     "timestamp": 1704565435019,
     "user": {
      "displayName": "Ouahbi El Makkaoui",
      "userId": "16338340091516215429"
     },
     "user_tz": -60
    },
    "id": "001d55ef",
    "outputId": "ebf76bf9-6592-4cac-f022-092049622262"
   },
   "outputs": [
    {
     "name": "stdout",
     "output_type": "stream",
     "text": [
      "specificity= 0.8974358974358975\n"
     ]
    }
   ],
   "source": [
    "true_negatives2 = cm2[0, 0]\n",
    "false_positives2 = cm2[0, 1]\n",
    "print('specificity=',true_negatives2 / (true_negatives2 + false_positives2))"
   ]
  },
  {
   "cell_type": "markdown",
   "id": "8cea9358",
   "metadata": {
    "id": "8cea9358"
   },
   "source": [
    "# 3.Weighted average accuracy"
   ]
  },
  {
   "cell_type": "code",
   "execution_count": null,
   "id": "53d77eb8",
   "metadata": {
    "id": "53d77eb8"
   },
   "outputs": [],
   "source": [
    "acc1=accuracy_score(y_test1, y_pred1)\n",
    "w1=my_model1.feature_importances_\n",
    "wa1=np.mean(w1)\n",
    "acc2=accuracy_score(y_test2, y_pred2)\n",
    "w2=my_model2.feature_importances_\n",
    "wa2=np.mean(w2)"
   ]
  },
  {
   "cell_type": "code",
   "execution_count": null,
   "id": "238579f2",
   "metadata": {
    "id": "238579f2"
   },
   "outputs": [],
   "source": [
    "avrg=((acc1*wa1)+(acc2*wa2))/(wa1+wa2)"
   ]
  },
  {
   "cell_type": "code",
   "execution_count": null,
   "id": "05aab8f0",
   "metadata": {
    "colab": {
     "base_uri": "https://localhost:8080/"
    },
    "executionInfo": {
     "elapsed": 2,
     "status": "ok",
     "timestamp": 1704565442092,
     "user": {
      "displayName": "Ouahbi El Makkaoui",
      "userId": "16338340091516215429"
     },
     "user_tz": -60
    },
    "id": "05aab8f0",
    "outputId": "71570a02-dcea-4e9d-fc91-75adbd1ecd5e"
   },
   "outputs": [
    {
     "data": {
      "text/plain": [
       "0.7857221798429574"
      ]
     },
     "execution_count": 36,
     "metadata": {},
     "output_type": "execute_result"
    }
   ],
   "source": [
    "avrg"
   ]
  }
 ],
 "metadata": {
  "colab": {
   "provenance": []
  },
  "kernelspec": {
   "display_name": "Python 3 (ipykernel)",
   "language": "python",
   "name": "python3"
  },
  "language_info": {
   "codemirror_mode": {
    "name": "ipython",
    "version": 3
   },
   "file_extension": ".py",
   "mimetype": "text/x-python",
   "name": "python",
   "nbconvert_exporter": "python",
   "pygments_lexer": "ipython3",
   "version": "3.8.17"
  }
 },
 "nbformat": 4,
 "nbformat_minor": 5
}
